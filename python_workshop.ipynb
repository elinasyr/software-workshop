{
  "cells": [
    {
      "cell_type": "markdown",
      "metadata": {
        "id": "t6HluITRuXQY"
      },
      "source": [
        "# Καλωσορίσατε στο **Software Workshop**,\n",
        "\n",
        "## Ευκαιρία να δούμε λίγη **python**..."
      ]
    },
    {
      "cell_type": "markdown",
      "metadata": {
        "id": "jmufWY-_uXQp"
      },
      "source": [
        "## Η έννοια της μεταβλητής\n",
        "Η μεταβλητή αντιπροσωπεύει μία θέση μνήμης (ή πολλές) στον υπολογιστή.\n",
        "1. Μία μεταβλητή πρέπει να έχει ένα όνομα\n",
        "2. Το περιεχόμενό της ονομάζεται τιμή της μεταβλητής\n",
        "\n",
        "Στην python ορίζοντας μία μεταβλητή μπορούμε να της αναθέσουμε όποια τιμή θέλουμε, ανεξαρτήτως τύπου\n",
        "χρησιμοποιώντας το σύμβολο της ανάθεσης ‘**=**’"
      ]
    },
    {
      "cell_type": "code",
      "execution_count": null,
      "metadata": {
        "id": "j_TsDQGkuXQr"
      },
      "outputs": [],
      "source": [
        "# Παραδείγματα εκχώρησης και εκτύπωσης μεταβλητής\n",
        "\n",
        "# int (ακέραιος αριθμός)\n",
        "int_ex = 7\n",
        "print(\"int_ex =\", int_ex)\n",
        "\n",
        "# real (πραγματικός αριθμός)\n",
        "real_ex = 3.14\n",
        "print(\"real_ex =\", real_ex)\n",
        "\n",
        "# string (διαδοχικοί χαρακτήρες)\n",
        "string_ex = \"This is a string\"\n",
        "print(\"string_ex =\", string_ex)\n",
        "\n",
        "# boolean (δυαδικές τιμές: True ή False)\n",
        "boolean_ex = True\n",
        "print(\"boolean_ex =\", boolean_ex)"
      ]
    },
    {
      "cell_type": "markdown",
      "metadata": {
        "id": "K0cCYsJwuXQw"
      },
      "source": [
        "## Τα σύμβολα πράξεων\n",
        "Στην python μεταξύ των αριθμών ισχύουν οι γνωστές πράξεις των μαθηματικών και ακολουθείται η γνωστή σειρά\n",
        "προτεραιότητας (παρενθέσεις, πολλαπλασιασμός - διαιρέσεις ,προσθέσεις - αφαιρέσεις):\n",
        "- πρόσθεση: `+`\n",
        "- αφαίρεση: `-`\n",
        "- πολλαπλασιασμός: `*`\n",
        "- διαίρεση: `/`, πχ 6 / 4 -> 1,5\n",
        "- ακέραια διαίρεση: `//`, πχ 6 // 4 -> 1\n",
        "- υπόλοιπο: `%`, πχ 6 % 4 -> 2\n",
        "- ισότητα: `==`, πχ 2 == 2 -> True\n",
        "- ανισότητα: `!=`, πχ 2 != 2 -> False"
      ]
    },
    {
      "cell_type": "code",
      "execution_count": null,
      "metadata": {
        "id": "7xM2-fHouXQx"
      },
      "outputs": [],
      "source": [
        "# Παραδείγματα πράξεων\n",
        "\n",
        "# αριθμητικές πράξεις\n",
        "print(\"7 + 5 =\", 7 + 5)\n",
        "print(\"7 - 5 =\", 7 - 5)\n",
        "print(\"7 * 5 =\", 7 * 5)\n",
        "print(\"7 / 5 =\", 7 / 5)\n",
        "print(\"7 // 5 =\", 7 // 5)\n",
        "print(\"7 % 5 =\", 7 % 5)\n",
        "print(\"7 == 5 =\", 7 == 5)\n",
        "print(\"7 != 5 =\", 7 != 5)\n",
        "\n",
        "# λειτουργίες συμβολοσειράς\n",
        "print(\"'hello' + ' world' =\", 'hello' + ' world')\n",
        "print(\"ha * 4 =\", 'ha  ' * 4)\n"
      ]
    },
    {
      "cell_type": "markdown",
      "metadata": {
        "id": "nagm_bOwuXQy"
      },
      "source": [
        "## Δομές ελέγχου\n",
        "\n",
        "Οι δομές ελέγχου δίνουν την δυνατότητα στο πρόγραμμα μας να γίνει πιο έξυπνο. Με άλλα λόγια μπορεί να πάρει αποφάσεις, να προχωρήσει δηλαδή σε συγκεκριμένες ενέργειες βάσει κάποιων συνθηκών. \n",
        "\n",
        "Η βασική δομή επιλογής στην Python έχει την παρακάτω μορφή:\n",
        "```\n",
        "if condition_1_is_True:\n",
        "    take_action_1\n",
        "elif condition_2_is_True:\n",
        "    take_action_2\n",
        "elif condition_3_is_True:\n",
        "    take_action_3\n",
        "elif ...\n",
        "...\n",
        "else:\n",
        "    take_else_action\n",
        "``` \n",
        "όπου στην θέση των condition βρίσκεται μια λογική έκφραση (αποτιμάται σε True ή False) και στην\n",
        "θέση των take_action οι εντολές που θα εκτελεστούν αν η συνθήκη στον αντίστοιχο κλάδο αληθεύει."
      ]
    },
    {
      "cell_type": "code",
      "execution_count": null,
      "metadata": {
        "id": "xFxpsveGuXQ0"
      },
      "outputs": [],
      "source": [
        "# Ας δούμε ένα παράδειγμα\n",
        "\n",
        "num = 5\n",
        "\n",
        "if num > 0:\n",
        "  print(\"Number is positive.\")\n",
        "elif num < 0:\n",
        "  print(\"Number is negative.\")\n",
        "else:\n",
        "  print(\"num == 0\")"
      ]
    },
    {
      "cell_type": "markdown",
      "metadata": {
        "id": "FQ8DzjEcFLbI"
      },
      "source": [
        "Τα conditions μπορεί να είναι και πιο περίπλοκα."
      ]
    },
    {
      "cell_type": "code",
      "execution_count": null,
      "metadata": {
        "id": "v2fW4iuSFYHV"
      },
      "outputs": [],
      "source": [
        "# Λίγο πιο περίπλοκο\n",
        "x = 0\n",
        "\n",
        "if x > 0 and x < 10:  # Αν μπει σε αυτό το κομμάτι δεν θα προχωρήσει στα υπόλοιπα κι ας ικανοποιούνται οι συνθήκες\n",
        "  print(\"x belongs to -> (0, 10)\")\n",
        "elif x < 0 or x > 3:\n",
        "  print(\"x belongs to -> (-inf, 0) U (3, +inf)\")\n",
        "elif not x == 0:  # Θα μπορούσε να γράψει \"elif x != 0\"\n",
        "  print(\"x is not equal to 0\")\n",
        "else:\n",
        "  print(\"ok\")"
      ]
    },
    {
      "cell_type": "markdown",
      "metadata": {
        "id": "PFCFfCjbuXQ2"
      },
      "source": [
        "## Δομές επανάληψης\n",
        "Ας υποθέσουμε ότι θέλουμε να εκτελέσουμε ένα σημείο του κωδικά παραπάνω από μία φορά. Τι θα κάνουμε;\n",
        "\n",
        "1. Αν **ξέρουμε πόσες φορές** θέλουμε να επαναλάβουμε, χρησιμοποιούμε **\"for loop\"**\n",
        "2. Αν **δεν ξέρουμε**, τότε χρησιμοποιούμε **“while loop”**\n",
        "\n",
        "Ας δούμε ένα παράδειγμα στο οποίο θέλουμε να τυπώσουμε τους αριθμούς από το 1 μέχρι και το 5 (ή πριν το 6)"
      ]
    },
    {
      "cell_type": "code",
      "execution_count": null,
      "metadata": {
        "id": "cJRDkh3RuXQ5"
      },
      "outputs": [],
      "source": [
        "# Παράδειγμα βρόχου for\n",
        "print(\"For loop example:\")\n",
        "for num in range(1, 6):   # από το 1 μέχρι και το 5\n",
        "    print(num)\n",
        "\n",
        "# Παράδειγμα βρόχου while\n",
        "print(\"While loop example:\")\n",
        "num_while = 1\n",
        "while num_while < 6:\n",
        "    print(num_while)\n",
        "    num_while = num_while + 1  # αυξάνετε τον αριθμό μετά από κάθε εκτύπωση"
      ]
    },
    {
      "cell_type": "markdown",
      "source": [
        "Στο παρακάτω παράδειγμα θέλουμε να βρούμε το άθροισμα των αριθμών από το\n",
        "1 μέχρι το 10."
      ],
      "metadata": {
        "id": "8yHF-05JLmi8"
      }
    },
    {
      "cell_type": "code",
      "source": [
        "total = 0\n",
        "\n",
        "for num in range(1, 11):   # συμπληρώστε την έκφραση για το κατάλληλο εύρος τιμών\n",
        "  total = total + num\n",
        "\n",
        "print(total)"
      ],
      "metadata": {
        "id": "2B6oidzMLVG8"
      },
      "execution_count": null,
      "outputs": []
    },
    {
      "cell_type": "markdown",
      "metadata": {
        "id": "xiktNbQQuXQ6"
      },
      "source": [
        "## Η έννοια της συνάρτησης (function)\n",
        "\n",
        "**Στον προγραμματισμό ως συνάρτηση ορίζουμε ένα σύνολο εντολών που έχουν ομαδοποιηθεί μαζί**. \n",
        "\n",
        "Όπως και στα μαθηματικά η συνάρτηση μπορεί να δέχεται ως όρισμα μια ή περισσότερες μεταβλητές και ίσως να επιστρέφει κάποια τιμή.\n",
        "\n",
        "Για τον ορισμό μιας συνάρτησης χρησιμοποιείται η εξής σύνταξη:\n",
        "```\n",
        "def function_name(parameter1, parameter2, ...):\n",
        "    body_of_function\n",
        "    return something  # return is optional\n",
        "```\n",
        "\n",
        "Η συνάρτηση αφού οριστεί μπορεί να κληθεί έτσι:\n",
        "\n",
        "`function_name(p1, p2, ...)`\n",
        "\n",
        "και αν επιστρέφει κάποια τιμή, η τιμή επιστροφής μπορεί να αποθηκευτεί στη μεταβλητή result έτσι:\n",
        "\n",
        "` result = function_name(p1, p2, ...)`\n",
        "\n",
        "Ας προσπαθήσουμε να υλοποιήσουμε το παράδειγμα με τις κατηγορίες σε μία συνάρτηση για να την καλέσουμε για διαφορετικούς αριθμούς."
      ]
    },
    {
      "cell_type": "code",
      "execution_count": null,
      "metadata": {
        "id": "G8yGdaCTuXQ7"
      },
      "outputs": [],
      "source": [
        "# Μπορούμε να ορίσουμε συναρτήσεις όπως ακριβώς στα μαθηματικά\n",
        "\n",
        "def f(x):\n",
        "  y = 3*x + 5\n",
        "  return y\n",
        "\n",
        "result = f(10)  # αποθηκεύστε το αποτέλεσμα μέσα σε μια μεταβλητή\n",
        "print(\"f(10) = \", result)\n",
        "\n",
        "for x in range(0, 10):\n",
        "  print(x, \" -> \", f(x))"
      ]
    },
    {
      "cell_type": "code",
      "execution_count": null,
      "metadata": {
        "id": "PR_rh_6juXQ8"
      },
      "outputs": [],
      "source": [
        "def say_hello(name, lastname, age):\n",
        "  print(\"Hello \", name, lastname)\n",
        "  print(\"You are \", age, \" years old\")\n",
        "\n",
        "say_hello(\"Dimitris\", \"Dimitropoulos\", 25)\n",
        "say_hello(\"Alexandros\", \"Alexandropoulos\", 50)"
      ]
    },
    {
      "cell_type": "markdown",
      "source": [
        "Γράψτε μια συνάρτηση με το όνομα square που να επιστρέφει το τετράγωνο του αριθμού που της δώθηκε."
      ],
      "metadata": {
        "id": "5_MYBOkJNMZE"
      }
    },
    {
      "cell_type": "code",
      "source": [
        "# Γράψτε την συνάρτηση από κάτω\n",
        "def square(num):\n",
        "    y = num * num\n",
        "    return y\n",
        "\n",
        "print(\"5^2 =\", square(5))\n",
        "print(\"10^2 =\", square(10))"
      ],
      "metadata": {
        "id": "6JSiRm4HNzOo"
      },
      "execution_count": null,
      "outputs": []
    },
    {
      "cell_type": "markdown",
      "metadata": {
        "id": "KGdCLh4WuXQ9"
      },
      "source": [
        "## Είσοδος / Έξοδος (Ι / Ο)\n",
        "\n",
        "1. **Για να πάρουμε τιμές από το πληκτρολόγιο** χρησιμοποιούμε την συνάρτηση **input**, η οποία μας επιστρέφει strings (συμβολοσειρές)\n",
        "2. **Για να εμφανίσουμε κάτι στην οθόνη** του υπολογιστή χρησιμοποιούμε την συνάρτηση **print**, όπως έχουμε ήδη δει"
      ]
    },
    {
      "cell_type": "code",
      "execution_count": null,
      "metadata": {
        "id": "j2VxtZsruXQ-"
      },
      "outputs": [],
      "source": [
        "# Παράδειγμα εισόδου, εξόδου\n",
        "\n",
        "age_string = input(\"Enter your age: \")   # Η είσοδος επιστρέφει μια συμβολοσειρά, όχι έναν αριθμό\n",
        "print(\"You are \", age_string, \" years old\")\n",
        "\n",
        "print(4*age_string)   # πχ. 4 * \"20\"\n",
        "\n",
        "age_number = int(age_string)\n",
        "print(4*age_number)   # πχ. 4 * 20"
      ]
    },
    {
      "cell_type": "code",
      "execution_count": null,
      "metadata": {
        "id": "cDZyD8hLMbkq"
      },
      "outputs": [],
      "source": [
        "# Μπορείτε να μπείτε στο καζίνο;\n",
        "\n",
        "def get_age():\n",
        "  age_string = input(\"Enter your age: \")    # παίρνουμε την ηλικία ως λέξη\n",
        "  age_number = int(age_string)              # μετατρέπουμε την λέξη σε αριθμό\n",
        "  return age_number\n",
        "\n",
        "def can_enter(age):\n",
        "  if age >= 21:\n",
        "    return True\n",
        "  else:\n",
        "    return False\n",
        "\n",
        "age = get_age()       # αποθηκεύουμε την ηλικία σε μια μεταβλητή\n",
        "if can_enter(age):    # αν μπορεί να μπει\n",
        "  print(\"Welcome, we can legally take your money.\")\n",
        "else:                 # αλλιώς, δηλαδή αν δεν μπορεί να μπει\n",
        "  print(\"Please come again when you are 21 years old, so we can take your money.\")  "
      ]
    },
    {
      "cell_type": "markdown",
      "metadata": {
        "id": "hmFg46nrmVqZ"
      },
      "source": [
        "## Πίνακες (Arrays/Lists)\n",
        "Είναι πολύ συνιθισμένο στον προγραμματισμό να χρειάζεται να χειριστούμε ένα σύνολο από δεδομένα και μεταβλητές. Ο πιο συχνός και εύκολος τρόπος αποθήκευσης δεδομένων είναι σε έναν πίνακα.\n",
        "\n",
        "Αντί να γράφαμε αυτό"
      ]
    },
    {
      "cell_type": "code",
      "execution_count": null,
      "metadata": {
        "id": "D99W7AOdnnUE"
      },
      "outputs": [],
      "source": [
        "num1 = 5\n",
        "num2 = 10\n",
        "num3 = 12\n",
        "num4 = -19"
      ]
    },
    {
      "cell_type": "markdown",
      "metadata": {
        "id": "1QGeyZ14nzCh"
      },
      "source": [
        "Μπορούμε να γράψουμε αυτό"
      ]
    },
    {
      "cell_type": "code",
      "execution_count": null,
      "metadata": {
        "id": "d4kORjuSnvr8"
      },
      "outputs": [],
      "source": [
        "nums = [5, 10, 12, -19]\n",
        "\n",
        "# Μπορούμε να έχουμε πρόσβαση στα στοιχεία όπως αυτό\n",
        "print(nums[0])  # εκτυπώνει τον πρώτο αριθμό (5)\n",
        "print(nums[2])  # εκτυπώνει τον τρίτο αριθμό (12)"
      ]
    },
    {
      "cell_type": "markdown",
      "metadata": {
        "id": "Zg_MyhpWoZFM"
      },
      "source": [
        "Μέσα σε έναν πίνακα μπορούμε να αποθηκεύσουμε οποιοδήποτε τύπο δεδομένων θέλουμε."
      ]
    },
    {
      "cell_type": "code",
      "execution_count": null,
      "metadata": {
        "id": "f2d1W3rgojdS"
      },
      "outputs": [],
      "source": [
        "names = [\"Giannis\", \"Giorgos\", \"Anna\", \"Dimitra\"]\n",
        "\n",
        "# Προσπέλαση των στοιχείων της λίστας με την χρήση βρόχου\n",
        "for i in range(4):\n",
        "  print(names[i])\n",
        "\n",
        "# Προσπέλαση των στοιχείων της λίστας με την χρήση βρόχου αλλά με πιο κομψό τρόπο\n",
        "for name in names:\n",
        "  print(name)"
      ]
    },
    {
      "cell_type": "markdown",
      "metadata": {
        "id": "f4YWYAN7rAV1"
      },
      "source": [
        "Επίσης μπορούμε φτιάξουμε και πίνακα από πίνακες, δηλαδή έναν δισδιάστατο πίνακα."
      ]
    },
    {
      "cell_type": "code",
      "execution_count": null,
      "metadata": {
        "id": "SeKtmdZgrNKa"
      },
      "outputs": [],
      "source": [
        "table = [\n",
        "    [2, 5, 7],\n",
        "    [1, 2, 4],\n",
        "    [5, 7, 0]\n",
        "]\n",
        "\n",
        "# Πρώτη σειρά, τρίτη στήλη\n",
        "print(table[0][2])\n",
        "# Δεύτερη σειρά, δεύτερη στήλη\n",
        "print(table[1][1])"
      ]
    },
    {
      "cell_type": "markdown",
      "source": [
        "Στο παρακάτω παράδειγμα θέλουμε να υπολογίσουμε το γινόμενο των αριθμών μέσα στον πίνακα."
      ],
      "metadata": {
        "id": "VJU4r4k8PIZB"
      }
    },
    {
      "cell_type": "code",
      "source": [
        "table = [3, 6, 2, 9, 12]\n",
        "\n",
        "product = 1\n",
        "for #________:        # συμπληρώστε την εντολή for\n",
        "  #_____________      # εντολή που πολλαπλασιάζει κάθε φορά το product με τον αριθμό του πίνακα\n",
        "\n",
        "print(product)"
      ],
      "metadata": {
        "id": "RpwfyVxlPHrm"
      },
      "execution_count": null,
      "outputs": []
    },
    {
      "cell_type": "markdown",
      "metadata": {
        "id": "vGWtMKfJr4vq"
      },
      "source": [
        "Αντίστοιχα φτιάχνουμε τρισδιάστατους πίνακες, τετραδιάστατους κλπ..."
      ]
    },
    {
      "cell_type": "markdown",
      "metadata": {
        "id": "LjuEFkL7tsW_"
      },
      "source": [
        "## Επιτέλους...\n",
        "Ο καλύτερος τρόπος για να μάθει κανείς προγραμματισμό είναι πολύ απλά να γράψει κώδικα και να φτιάξει κάτι που τον ενδιαφέρει. Εμείς σήμερα θα φτιάξουμε την τρίλιζα για να δούμε σε πράξη όλα αυτά που μάθαμε. Σας δίνουμε τον ψευδοκώδικα, δηλαδή εντολές γραμμένες σε φυσική γλώσσα και κάποιες έτοιμες συναρτήσεις για να σας βοηθήσουμε.\n",
        "\n",
        "\n",
        "    board = [[\" \", \" \", \" \"], [\" \", \" \", \" \"], [\" \", \" \", \" \"]]\n",
        "    player = \"X\"\n",
        "\n",
        "    Επανάλαβε 9 φορές (αφού έχουμε 9 κελιά)\n",
        "      πάρε από τον χρήστη την σειρά\n",
        "      πάρε από τον χρήστη την στήλη\n",
        "\n",
        "      board[row][col] = player\n",
        "      αν κέρδισε ο τρέχον παίχτης\n",
        "          εκτύπωσε μήνυμα νίκης\n",
        "          τερμάτισε το πρόγραμμα\n",
        "    \n",
        "      αν έπαιζε ο Χ, τώρα θα είναι η σειρά του Ο (player = \"O\")\n",
        "      αν έπαιζε ο Ο, τώρα θα είναι η σειρά του Χ (player = \"X\")\n"
      ]
    },
    {
      "cell_type": "code",
      "execution_count": null,
      "metadata": {
        "id": "-81Ap059vgp7"
      },
      "outputs": [],
      "source": [
        "# Συνάρτηση εκτύπωσης της εικόνας του πίνακα στο τερματικό σε μορφή Tic Tac Toe\n",
        "def print_board(board):\n",
        "    print(\"-------------\")\n",
        "\n",
        "    for i in range(3):\n",
        "        print(\"|\", end = \" \")\n",
        "        for j in range(3):\n",
        "            print(board[i][j], \"|\", end = \" \")\n",
        "        print()\n",
        "        print(\"-------------\")\n",
        "\n",
        "\n",
        "# Συνάρτηση που ελέγχει εάν ένας παίκτης έχει κερδίσει ελέγχοντας όλες τις πιθανές συνθήκες νίκης\n",
        "def check_winner(board, player):\n",
        "    for i in range(3):\n",
        "        # Ελέγξτε τις σειρές\n",
        "        if board[i][0] == board[i][1] == board[i][2] == player:\n",
        "            return True\n",
        "        # Ελέγξτε τις στήλες\n",
        "        if board[0][i] == board[1][i] == board[2][i] == player:\n",
        "            return True\n",
        "        \n",
        "    # Ελέγξτε τη διαγώνιο\n",
        "    if board[0][0] == board[1][1] == board[2][2] == player:\n",
        "        return True\n",
        "    \n",
        "    # Ελέγξτε τη διαγώνιο\n",
        "    if board[0][2] == board[1][1] == board[2][0] == player:\n",
        "        return True\n",
        "    \n",
        "    return False\n",
        "\n",
        "test_board = [\n",
        "    [\"X\", \"O\", \" \"],\n",
        "    [\" \", \"X\", \"O\"],\n",
        "    [\"O\", \" \", \"X\"]\n",
        "]\n",
        "\n",
        "print_board(test_board)\n",
        "print(check_winner(test_board, \"X\"))\n",
        "print(check_winner(test_board, \"O\"))"
      ]
    },
    {
      "cell_type": "code",
      "execution_count": null,
      "metadata": {
        "id": "xuC7lN4qfRSV"
      },
      "outputs": [],
      "source": [
        "# Συνάρτηση εκτύπωσης της εικόνας του πίνακα στο τερματικό σε μορφή Tic Tac Toe\n",
        "def print_board(board):\n",
        "    print(\"-------------\")\n",
        "\n",
        "    for i in range(3):\n",
        "        print(\"|\", end = \" \")\n",
        "        for j in range(3):\n",
        "            print(board[i][j], \"|\", end = \" \")\n",
        "        print()\n",
        "        print(\"-------------\")\n",
        "\n",
        "# Συνάρτηση που ελέγχει εάν ένας παίκτης έχει κερδίσει ελέγχοντας όλες τις πιθανές συνθήκες νίκης\n",
        "def check_winner(board, player):\n",
        "    for i in range(3):\n",
        "        #  Ελέγξτε τις σειρές\n",
        "        if board[i][0] == board[i][1] == board[i][2] == player:\n",
        "            return True\n",
        "        # Ελέγξτε τις στήλες\n",
        "        if board[0][i] == board[1][i] == board[2][i] == player:\n",
        "            return True\n",
        "        \n",
        "    # Ελέγξτε τη διαγώνιο\n",
        "    if board[0][0] == board[1][1] == board[2][2] == player:\n",
        "        return True\n",
        "    \n",
        "    # Ελέγξτε τη διαγώνιο\n",
        "    if board[0][2] == board[1][1] == board[2][0] == player:\n",
        "        return True\n",
        "    \n",
        "    return False\n",
        "\n",
        "\n",
        "board = [[\" \", \" \", \" \"], [\" \", \" \", \" \"], [\" \", \" \", \" \"]]\n",
        "player = \"X\"    # Πρώτος παίκτης 'X'\n",
        "tie = True\n",
        "print_board(board)\n",
        "\n",
        "for round in range(9):\n",
        "    print(player + \"'s turn\") # Ποιανου σειρά ειναι?\n",
        "\n",
        "    row = int(input(\"Enter row (1-3): \")) - 1       # Είσοδος παίκτη για σειρά\n",
        "    column = int(input(\"Enter column (1-3): \")) - 1     # Είσοδος παίκτη για στήλη\n",
        "\n",
        "    board[row][column] = player     # Γράψε στον πίνακα\n",
        "    print_board(board)\n",
        "\n",
        "    if check_winner(board, player):     #ελέγξτε για τον νικητή\n",
        "        print(player + \" wins!\")\n",
        "        tie = False\n",
        "        break   # έξοδος από τον βρόχο\n",
        "\n",
        "    # Αλλάζουμε το ποιος παίχτης θα παίξει στον επόμενο γύρο\n",
        "    if player == \"X\":\n",
        "        player = \"O\"\n",
        "    else:\n",
        "        player = \"X\"\n",
        "\n",
        "\n",
        "# Έρχεται εδώ μετά την έξοδο της επανάληψης\n",
        "\n",
        "if (tie):\n",
        "  print(\"It's a tie!\")"
      ]
    },
    {
      "cell_type": "code",
      "source": [
        "# guessing game\n",
        "import random\n",
        "\n",
        "number = random.randint(1, 10)\n",
        "lost = True\n",
        "\n",
        "for attempt in range(1, 4):\n",
        "  guess = int(input(\"Enter guess: \"))\n",
        "\n",
        "  if guess == number:\n",
        "    print(\"You won\")\n",
        "    lost = False\n",
        "    break\n",
        "\n",
        "  if guess > number:\n",
        "    print(\"Pick a lower number\")\n",
        "  \n",
        "  elif guess < number:\n",
        "    print(\"Pick a higher number\")\n",
        "\n",
        "if lost == True:\n",
        "  print(\"you lost\")"
      ],
      "metadata": {
        "id": "Q_urCGXtJgM0"
      },
      "execution_count": null,
      "outputs": []
    }
  ],
  "metadata": {
    "colab": {
      "provenance": []
    },
    "kernelspec": {
      "display_name": "Python 3",
      "language": "python",
      "name": "python3"
    },
    "language_info": {
      "codemirror_mode": {
        "name": "ipython",
        "version": 3
      },
      "file_extension": ".py",
      "mimetype": "text/x-python",
      "name": "python",
      "nbconvert_exporter": "python",
      "pygments_lexer": "ipython3",
      "version": "3.6.4"
    }
  },
  "nbformat": 4,
  "nbformat_minor": 0
}